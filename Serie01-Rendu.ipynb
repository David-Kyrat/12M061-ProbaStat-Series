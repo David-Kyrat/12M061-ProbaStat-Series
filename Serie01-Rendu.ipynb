{
 "cells": [
  {
   "cell_type": "markdown",
   "id": "846ace25",
   "metadata": {
    "slideshow": {
     "slide_type": "-"
    }
   },
   "source": [
    "# Probabilités & Statistiques  \n",
    "  \n",
    "### Septembre 2022\n",
    "<br/>\n",
    "\n",
    "# Série 01\n",
    "\n",
    "---"
   ]
  },
  {
   "cell_type": "code",
   "execution_count": 1,
   "id": "b003b814",
   "metadata": {
    "scrolled": true
   },
   "outputs": [
    {
     "data": {
      "text/html": [
       "<iframe src=res/serie01.pdf width=800 height=400></iframe>"
      ],
      "text/latex": [
       "\\includegraphics[width=1.0\\textwidth]{res/serie01.pdf}"
      ],
      "text/plain": [
       "<__main__.PDF at 0x25ca9bb2280>"
      ]
     },
     "execution_count": 1,
     "metadata": {},
     "output_type": "execute_result"
    }
   ],
   "source": [
    "class PDF(object):\n",
    "  def __init__(self, pdf, size=(200,200)):\n",
    "    self.pdf = pdf\n",
    "    self.size = size\n",
    "\n",
    "  def _repr_html_(self):\n",
    "    return '<iframe src={0} width={1[0]} height={1[1]}></iframe>'.format(self.pdf, self.size)\n",
    "\n",
    "  def _repr_latex_(self):\n",
    "    return r'\\includegraphics[width=1.0\\textwidth]{{{0}}}'.format(self.pdf)\n",
    "PDF('res/serie01.pdf', size=(800, 400))"
   ]
  },
  {
   "cell_type": "markdown",
   "id": "68df57c5",
   "metadata": {},
   "source": [
    "## 1. Dénombrabilité\n",
    "---\n",
    "### (a)\n",
    "On cherche à écrire un programme qui donné un `n` nous donne le n-ème élément de $A^{*} = {\\{0,1\\}^{*}}$\n",
    "\n",
    "A* est ordonné selon l'ordre lexicographique, i.e. $A^*=\\{0; 1; 00; 01; 10; 11; 000; 001; 010 : 011; 100; 101; 110; 111;. . .\\}$  \n",
    "<br/>\n",
    "\n",
    "Définisson ${B=A^{*}}\\ $ par simplicité. Si on sépare $B$ en \"groupe\" d'éléments de même tailles (i.e. les 0,1, les 00, 01 ...),  \n",
    "on se rend compte que le nombre d'élément de chaque groupe est donné par $2^k$ où $k$ est la taille des éléments de ce dernier.  \n",
    "On a donc que le nombre d'éléments (possibilités de combinaison de 0,1) de taille $\\leq k$ est\n",
    "$\\sum^{k}_{i=1}{2^i} = 2^{i+1}-2$  \n",
    "<br/>\n",
    "\n",
    "Avec notre `n` donné, on cherche quelle taille ($k$) correspond à au moins `n` éléments:  \n",
    "$2^{k+1}-2 = n \\Longleftrightarrow 2^{k} = \\frac{n}{2}+1 \\Longleftrightarrow k = \\log_2{( \\frac{n}{2} + 1 )}$  \n",
    "On obtient donc la taille du n-ème élément de $B$ comme $|B_n| = \\lceil{\\log_2{( \\frac{n}{2} + 1 )}}\\rceil$"
   ]
  },
  {
   "cell_type": "code",
   "execution_count": 2,
   "id": "fc0fbab7",
   "metadata": {
    "scrolled": true
   },
   "outputs": [],
   "source": [
    "import math\n",
    "def lg(n):\n",
    "    \"\"\"return length of n-th element of B\"\"\"\n",
    "    return math.ceil(math.log(n/2 + 1, 2))\n",
    "def sum_group_card(n):\n",
    "    return 2**(n+1) - 2\n",
    "\n",
    "def getIndexInGroup(n):\n",
    "    \"\"\"Return the index of B_n among all elements of same length i.e. 'it is the k-th element of length lg(n)''\"\"\"\n",
    "    length = lg(n)\n",
    "    indexFromGroupStart = n - sum_group_card(length-1)\n",
    "    return indexFromGroupStart"
   ]
  },
  {
   "cell_type": "markdown",
   "id": "e4a68c0d",
   "metadata": {},
   "source": [
    "#### Tests début:"
   ]
  },
  {
   "cell_type": "code",
   "execution_count": 3,
   "id": "04d4919d",
   "metadata": {},
   "outputs": [
    {
     "name": "stdout",
     "output_type": "stream",
     "text": [
      "size of 13-th element: 3\n",
      "index in group: 7\n"
     ]
    }
   ],
   "source": [
    "n = 13\n",
    "print(f\"size of {n}-th element: {lg(n)}\")\n",
    "print(\"index in group:\", getIndexInGroup(n))"
   ]
  },
  {
   "cell_type": "markdown",
   "id": "9c4fbd7f",
   "metadata": {},
   "source": [
    "Maintenant qu'on a la position de $B_n$ parmis les éléments de la même taille que ce dernier, il suffit juste de convertir ce nombre en binaire et rajouter des 0 (padd) devant jusqu'à atteindre la taille désirée."
   ]
  },
  {
   "cell_type": "code",
   "execution_count": 4,
   "id": "64acffc1",
   "metadata": {
    "scrolled": true
   },
   "outputs": [],
   "source": [
    "def padd(s, newLen):\n",
    "    \"\"\"Padd string with '0' until given length\"\"\"\n",
    "    crtLen = len(s)\n",
    "    if crtLen >= newLen: return s\n",
    "    paddNb = newLen - crtLen\n",
    "    return paddNb*\"0\" + s\n",
    "\n",
    "def toBinPadd(n, newLen):\n",
    "    \"\"\"Convert to binary removes the '0b' prefix and padd with 0s\"\"\"\n",
    "    return padd(str(bin(n))[2:], newLen)"
   ]
  },
  {
   "cell_type": "code",
   "execution_count": 5,
   "id": "cb9a0230",
   "metadata": {},
   "outputs": [
    {
     "name": "stdout",
     "output_type": "stream",
     "text": [
      "i=1: \"0\"\n",
      "i=2: \"1\"\n",
      "i=3: \"00\"\n",
      "i=4: \"01\"\n",
      "i=5: \"10\"\n",
      "i=6: \"11\"\n",
      "i=7: \"000\"\n",
      "i=8: \"001\"\n",
      "i=9: \"010\"\n",
      "i=10: \"011\"\n",
      "i=11: \"100\"\n",
      "i=12: \"101\"\n",
      "i=13: \"110\"\n",
      "i=14: \"111\"\n",
      "i=15: \"0000\"\n",
      "i=16: \"0001\"\n",
      "i=17: \"0010\"\n",
      "i=18: \"0011\"\n",
      "i=19: \"0100\"\n"
     ]
    }
   ],
   "source": [
    "def produce_nth_element(n):\n",
    "    length = lg(n)\n",
    "    idxGrp = getIndexInGroup(n) - 1 # Start to count at 1, therefore need to substract 1 from binary number\n",
    "    return toBinPadd(idxGrp, length)\n",
    "\n",
    "#\n",
    "# Test de la fonction finale :\n",
    "for i in range(1, 20):\n",
    "    print(f\"i={i}: \\\"{produce_nth_element(i)}\\\"\")"
   ]
  },
  {
   "cell_type": "markdown",
   "id": "52aa9839",
   "metadata": {},
   "source": [
    "\n",
    "<br/>\n",
    "\n",
    "---\n",
    "\n",
    "<br/>\n",
    "\n",
    "### (b)  \n",
    "On sait qu'il existe une bijection de $\\mathbb{N}$ vers les entiers naturels pair (que l'on notera $2\\mathbb{N}$).  De la même manière, il en existe une entre $\\mathbb{N}$ et $2\\mathbb{N}+1$ (les nombres impairs). On obtient donc :\n",
    "$ \\begin{equation*}\n",
    "    \\begin{cases}\n",
    "        x(n) := n \\mapsto 2n & \\\\\n",
    "        y(n) := n \\mapsto 2n+1 &\n",
    "    \\end{cases}\n",
    "\\end{equation*} \\ \\ $ \n",
    "\n",
    "c'est à dire: \n",
    "$$\n",
    "\\begin{align*}\n",
    "b \\ : \\ \\mathbb{N} & \\rightarrow \\mathbb{N} \\times \\mathbb{N} \\\\\n",
    " n & \\mapsto (2n, \\ 2n+1)\n",
    "\\end{align*}\n",
    "$$\n",
    "Voir l'implémentation ci-dessous."
   ]
  },
  {
   "cell_type": "code",
   "execution_count": 6,
   "id": "2c565556",
   "metadata": {},
   "outputs": [],
   "source": [
    "def b(n):\n",
    "    def x(n): return 2*n\n",
    "    def y(n): return 2*n + 1\n",
    "    return (x(n), y(n))"
   ]
  },
  {
   "cell_type": "markdown",
   "id": "270bfff4",
   "metadata": {},
   "source": [
    "(Pour se convaincre que les bijections existent vraiment, prenons le cas de $\\mathbb{N} \\rightarrow 2\\mathbb{N}$.  \n",
    "On sait que la fonction $x\\mapsto 2x\\ $ est injective ($2x=2y \\leftrightarrow x=y)\\ $ \n",
    "donc son image $F$ est au moins \"aussi grande\" que son ensemble de définition ce qui montre que $F$ est non-fini. Or on sait que $F \\subset \\mathbb{Z}$ et $\\mathbb{Z}$ est dénombrable donc $F$ est aussi dénombrable et donc en bijection avec $\\mathbb{N}$.)"
   ]
  },
  {
   "cell_type": "code",
   "execution_count": 7,
   "id": "abbb7940",
   "metadata": {},
   "outputs": [
    {
     "name": "stdout",
     "output_type": "stream",
     "text": [
      "(0, 1)\n",
      "(2, 3)\n",
      "(4, 5)\n",
      "(6, 7)\n",
      "(8, 9)\n",
      "(10, 11)\n",
      "(12, 13)\n",
      "(14, 15)\n",
      "(16, 17)\n",
      "(18, 19)\n",
      "(20, 21)\n",
      "(22, 23)\n",
      "(24, 25)\n",
      "(26, 27)\n",
      "(28, 29)\n"
     ]
    }
   ],
   "source": [
    "for i in range(0, 15):\n",
    "    print(b(i))"
   ]
  },
  {
   "cell_type": "markdown",
   "id": "898d6012",
   "metadata": {},
   "source": [
    "<br/>\n",
    "\n",
    "---\n",
    "<br/>\n",
    "\n",
    "### (c)\n",
    "\n",
    "Insérer diagonalisation de Cantor"
   ]
  },
  {
   "cell_type": "markdown",
   "id": "15e5f393",
   "metadata": {},
   "source": [
    "\n",
    " <br/>\n",
    " \n",
    "## 2. Théorie des ensembles et mesures de probabilité\n",
    "---\n",
    "\n",
    "### (a)\n",
    "\n",
    "On veut exprimer $\\mathbb{1}_{A\\cup B}\\ $ en fonction de  $\\mathbb{1}_A$ et  $\\mathbb{1}_B\\ $.\n",
    "Considérons $(\\mathbb{1}_{\\Omega} - \\mathbb{1}_A)(\\mathbb{1}_{\\Omega} - \\mathbb{1}_{B})\\ \\ $, on a que \n",
    "$\\mathbb{1}_{A \\cup B}(x) = 0\\ $ si et seulement si $x \\notin A \\wedge x \\notin B\\ \\ \\ $\n",
    "i.e. Ssi $\\mathbb{1}_A = 0 \\wedge \\mathbb{1}_{B} = 0\\ \\ $, ce qui donnerait $(\\mathbb{1}_{\\Omega} - 0)(\\mathbb{1}_{\\Omega} - 0) = \\mathbb{1}_{\\Omega}$.  \n",
    "<br/>  \n",
    "\n",
    "Si $x \\in A \\vee x \\in B\\ \\ $ alors $\\mathbb{1}_{\\Omega} = 1 \\wedge (\\mathbb{1}_{\\Omega} - \\mathbb{1}_A) = 0\\ \\ $ ou $(\\mathbb{1}_{\\Omega} -\\mathbb{1}_{B}) = 0\\ \\ $. On s'apperçoit que $(\\mathbb{1}_{\\Omega}-\\mathbb{1}_A)(\\mathbb{1}_{\\Omega}-\\mathbb{1}_{B})\\ \\ $ vaut toujours 0 sauf si $\\mathbb{1}_{A \\cup B}\\ $ vaut 0. On peut donc juste rajouter $\"\\mathbb{1}_{\\Omega} \\ -\"$ devant pour réquilibrer le tout et on finit avec $\\mathbb{1}_{A \\cup B}= \\mathbb{1}_{\\Omega} - (\\mathbb{1}_{\\Omega} - \\mathbb{1}_A)(\\mathbb{1}_{\\Omega} -\\mathbb{1}_{B})$.\n"
   ]
  },
  {
   "cell_type": "code",
   "execution_count": null,
   "id": "68990fae",
   "metadata": {},
   "outputs": [],
   "source": []
  }
 ],
 "metadata": {
  "kernelspec": {
   "display_name": "Python 3 (ipykernel)",
   "language": "python",
   "name": "python3"
  },
  "language_info": {
   "codemirror_mode": {
    "name": "ipython",
    "version": 3
   },
   "file_extension": ".py",
   "mimetype": "text/x-python",
   "name": "python",
   "nbconvert_exporter": "python",
   "pygments_lexer": "ipython3",
   "version": "3.9.12"
  },
  "widgets": {
   "application/vnd.jupyter.widget-state+json": {
    "state": {},
    "version_major": 2,
    "version_minor": 0
   }
  }
 },
 "nbformat": 4,
 "nbformat_minor": 5
}
