{
 "cells": [
  {
   "cell_type": "markdown",
   "id": "846ace25",
   "metadata": {
    "slideshow": {
     "slide_type": "-"
    }
   },
   "source": [
    "# Probabilités & Statistiques  \n",
    "  \n",
    "### Septembre 2022\n",
    "<br/>\n",
    "\n",
    "## Série 01\n",
    "\n",
    "---"
   ]
  },
  {
   "cell_type": "code",
   "execution_count": 1,
   "id": "b003b814",
   "metadata": {
    "scrolled": true
   },
   "outputs": [
    {
     "data": {
      "text/html": [
       "<iframe src=res/serie01.pdf width=800 height=400></iframe>"
      ],
      "text/latex": [
       "\\includegraphics[width=1.0\\textwidth]{res/serie01.pdf}"
      ],
      "text/plain": [
       "<__main__.PDF at 0x27c95272d00>"
      ]
     },
     "execution_count": 1,
     "metadata": {},
     "output_type": "execute_result"
    }
   ],
   "source": [
    "class PDF(object):\n",
    "  def __init__(self, pdf, size=(200,200)):\n",
    "    self.pdf = pdf\n",
    "    self.size = size\n",
    "\n",
    "  def _repr_html_(self):\n",
    "    return '<iframe src={0} width={1[0]} height={1[1]}></iframe>'.format(self.pdf, self.size)\n",
    "\n",
    "  def _repr_latex_(self):\n",
    "    return r'\\includegraphics[width=1.0\\textwidth]{{{0}}}'.format(self.pdf)\n",
    "PDF('res/serie01.pdf', size=(800, 400))"
   ]
  },
  {
   "cell_type": "markdown",
   "id": "68df57c5",
   "metadata": {},
   "source": [
    "### 1. Dénombrabilité\n",
    "---\n",
    "\n",
    "On cherche à écrire un programme qui donné un `n` nous donne le n-ème élément de $A^{*} = {\\{0,1\\}^{*}}$\n",
    "\n",
    "A* est ordonné selon l'ordre lexicographique, i.e. $A^*=\\{0; 1; 00; 01; 10; 11; 000; 001; 010 : 011; 100; 101; 110; 111;. . .\\}$  \n",
    "<br/>\n",
    "\n",
    "Définisson ${B=A^{*}}\\ $ par simplicité. Si on sépare $B$ en \"groupe\" d'éléments de même tailles (i.e. les 0,1, les 00, 01 ...),  \n",
    "on se rend compte que le nombre d'élément de chaque groupe est donné par $2^k$ où $k$ est la taille des éléments de ce dernier.  \n",
    "On a donc que le nombre d'éléments (possibilités de combinaison de 0,1) de taille $\\leq k$ est\n",
    "$\\sum^{k}_{i=1}{2^i} = 2^{i+1}-2$  \n",
    "<br/>\n",
    "\n",
    "Avec notre `n` donné, on cherche quelle taille ($k$) correspond à au moins `n` éléments:  \n",
    "$2^{k+1}-2 = n \\Longleftrightarrow 2^{k} = \\frac{n}{2}+1 \\Longleftrightarrow k = \\log_2{( \\frac{n}{2} + 1 )}$  \n",
    "On obtient donc la taille du n-ème élément de $B$ comme $|B_n| = \\lceil{\\log_2{( \\frac{n}{2} + 1 )}}\\rceil$"
   ]
  },
  {
   "cell_type": "code",
   "execution_count": 66,
   "id": "4403e1c9",
   "metadata": {
    "scrolled": true
   },
   "outputs": [],
   "source": [
    "import math\n",
    "def log2(x): \n",
    "    return math.log(x, 2)\n",
    "def lg(n):\n",
    "    \"\"\"return length of n-th element of B\"\"\"\n",
    "    return math.ceil(log2(n/2 + 1))\n",
    "def sum_group_card(n):\n",
    "    return 2**(n+1) - 2"
   ]
  },
  {
   "cell_type": "code",
   "execution_count": 65,
   "id": "565b337d",
   "metadata": {
    "scrolled": true
   },
   "outputs": [
    {
     "name": "stdout",
     "output_type": "stream",
     "text": [
      "3\n",
      "index in group: 7\n"
     ]
    }
   ],
   "source": [
    "def getIndexInGroup(n):\n",
    "    \"\"\"Return the index of B_n among all elements of same length i.e. 'it is the k-th element of length lg(n)''\"\"\"\n",
    "    length = lg(n)\n",
    "    indexFromGroupStart = n - sum_group_card(length-1)\n",
    "    return indexFromGroupStart\n",
    "# \n",
    "# Tests\n",
    "n = 8\n",
    "print(lg(n))\n",
    "print(\"index in group:\", getIndexInGroup(13))\n",
    "\n",
    "def padd(s, newLen):\n",
    "    \"\"\"Padd string with '0' until given length\"\"\"\n",
    "    crtLen = len(s)\n",
    "    if crtLen >= newLen: return s\n",
    "    paddNb = newLen - crtLen\n",
    "    return paddNb*\"0\" + s"
   ]
  },
  {
   "cell_type": "markdown",
   "id": "050db04d",
   "metadata": {},
   "source": [
    "Maintenant qu'on a la position de $B_n$ parmis les éléments de la même taille que ce dernier, il suffit juste de convertir ce nombre en binaire et rajouter des 0 (padd) devant jusqu'à atteindre la taille désirée."
   ]
  },
  {
   "cell_type": "code",
   "execution_count": 83,
   "id": "47685e45",
   "metadata": {},
   "outputs": [],
   "source": [
    "def toBinPadd(n, newLen):\n",
    "    \"\"\"Convert to binary removes the '0b' prefix and padd with 0s\"\"\"\n",
    "    return padd(str(bin(n))[2:], newLen)"
   ]
  },
  {
   "cell_type": "code",
   "execution_count": null,
   "id": "165396e6",
   "metadata": {},
   "outputs": [],
   "source": []
  }
 ],
 "metadata": {
  "kernelspec": {
   "display_name": "Python 3 (ipykernel)",
   "language": "python",
   "name": "python3"
  },
  "language_info": {
   "codemirror_mode": {
    "name": "ipython",
    "version": 3
   },
   "file_extension": ".py",
   "mimetype": "text/x-python",
   "name": "python",
   "nbconvert_exporter": "python",
   "pygments_lexer": "ipython3",
   "version": "3.9.12"
  },
  "widgets": {
   "application/vnd.jupyter.widget-state+json": {
    "state": {},
    "version_major": 2,
    "version_minor": 0
   }
  }
 },
 "nbformat": 4,
 "nbformat_minor": 5
}
