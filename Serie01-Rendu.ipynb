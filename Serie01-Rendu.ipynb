{
 "cells": [
  {
   "cell_type": "markdown",
   "id": "846ace25",
   "metadata": {
    "slideshow": {
     "slide_type": "-"
    }
   },
   "source": [
    "# Probabilités & Statistiques  \n",
    "  \n",
    "### Septembre 2022\n",
    "<br/>\n",
    "\n",
    "# Série 01\n",
    "\n",
    "---"
   ]
  },
  {
   "cell_type": "code",
   "execution_count": 1,
   "id": "b003b814",
   "metadata": {
    "scrolled": true
   },
   "outputs": [
    {
     "data": {
      "text/html": [
       "<iframe src=res/serie01.pdf width=800 height=400></iframe>"
      ],
      "text/latex": [
       "\\includegraphics[width=1.0\\textwidth]{res/serie01.pdf}"
      ],
      "text/plain": [
       "<__main__.PDF at 0x16a618ad910>"
      ]
     },
     "execution_count": 1,
     "metadata": {},
     "output_type": "execute_result"
    }
   ],
   "source": [
    "class PDF(object):\n",
    "  def __init__(self, pdf, size=(200,200)):\n",
    "    self.pdf = pdf\n",
    "    self.size = size\n",
    "\n",
    "  def _repr_html_(self):\n",
    "    return '<iframe src={0} width={1[0]} height={1[1]}></iframe>'.format(self.pdf, self.size)\n",
    "\n",
    "  def _repr_latex_(self):\n",
    "    return r'\\includegraphics[width=1.0\\textwidth]{{{0}}}'.format(self.pdf)\n",
    "PDF('res/serie01.pdf', size=(800, 400))"
   ]
  },
  {
   "cell_type": "markdown",
   "id": "68df57c5",
   "metadata": {},
   "source": [
    "## 1. Dénombrabilité\n",
    "---\n",
    "### (a)\n",
    "On cherche à écrire un programme qui donné un `n` nous donne le n-ème élément de $A^{*} = {\\{0,1\\}^{*}}$\n",
    "\n",
    "A* est ordonné selon l'ordre lexicographique, i.e. $A^*=\\{0; 1; 00; 01; 10; 11; 000; 001; 010 : 011; 100; 101; 110; 111;. . .\\}$  \n",
    "<br/>\n",
    "\n",
    "Définisson ${B=A^{*}}$ par simplicité. Si on sépare $B$ en \"groupe\" d'éléments de même tailles (i.e. les 0,1, les 00, 01 ...),  \n",
    "on se rend compte que le nombre d'élément de chaque groupe est donné par $2^k$ où $k$ est la taille des éléments de ce dernier.  \n",
    "On a donc que le nombre d'éléments (possibilités de combinaison de 0,1) de taille $\\leq k$ est\n",
    "$\\sum^{k}_{i=1}{2^i} = 2^{i+1}-2$  \n",
    "<br/>\n",
    "\n",
    "Avec notre `n` donné, on cherche quelle taille ($k$) correspond à au moins `n` éléments:  \n",
    "$2^{k+1}-2 = n \\Longleftrightarrow 2^{k} = \\frac{n}{2}+1 \\Longleftrightarrow k = \\log_2{( \\frac{n}{2} + 1 )}$  \n",
    "On obtient donc la taille du n-ème élément de $B$ comme $|B_n| = \\lceil{\\log_2{( \\frac{n}{2} + 1 )}}\\rceil$"
   ]
  },
  {
   "cell_type": "code",
   "execution_count": 2,
   "id": "fc0fbab7",
   "metadata": {
    "scrolled": true
   },
   "outputs": [],
   "source": [
    "import math\n",
    "def lg(n):\n",
    "    \"\"\"return length of n-th element of B\"\"\"\n",
    "    return math.ceil(math.log(n/2 + 1, 2))\n",
    "def sum_group_card(n):\n",
    "    return 2**(n+1) - 2\n",
    "\n",
    "def getIndexInGroup(n):\n",
    "    \"\"\"Return the index of B_n among all elements of same length i.e. 'it is the k-th element of length lg(n)''\"\"\"\n",
    "    length = lg(n)\n",
    "    indexFromGroupStart = n - sum_group_card(length-1)\n",
    "    return indexFromGroupStart"
   ]
  },
  {
   "cell_type": "markdown",
   "id": "e4a68c0d",
   "metadata": {},
   "source": [
    "#### Tests début:"
   ]
  },
  {
   "cell_type": "code",
   "execution_count": 3,
   "id": "04d4919d",
   "metadata": {},
   "outputs": [
    {
     "name": "stdout",
     "output_type": "stream",
     "text": [
      "size of 13-th element: 3\n",
      "index in group: 7\n"
     ]
    }
   ],
   "source": [
    "n = 13\n",
    "print(f\"size of {n}-th element: {lg(n)}\")\n",
    "print(\"index in group:\", getIndexInGroup(n))"
   ]
  },
  {
   "cell_type": "markdown",
   "id": "9c4fbd7f",
   "metadata": {},
   "source": [
    "Maintenant qu'on a la position de $B_n$ parmis les éléments de la même taille que ce dernier, il suffit juste de convertir ce nombre en binaire et rajouter des 0 (padd) devant jusqu'à atteindre la taille désirée."
   ]
  },
  {
   "cell_type": "code",
   "execution_count": 4,
   "id": "64acffc1",
   "metadata": {
    "scrolled": true
   },
   "outputs": [],
   "source": [
    "def padd(s, newLen):\n",
    "    \"\"\"Padd string with '0' until given length\"\"\"\n",
    "    crtLen = len(s)\n",
    "    if crtLen >= newLen: return s\n",
    "    paddNb = newLen - crtLen\n",
    "    return paddNb*\"0\" + s\n",
    "\n",
    "def toBinPadd(n, newLen):\n",
    "    \"\"\"Convert to binary removes the '0b' prefix and padd with 0s\"\"\"\n",
    "    return padd(str(bin(n))[2:], newLen)"
   ]
  },
  {
   "cell_type": "code",
   "execution_count": 5,
   "id": "cb9a0230",
   "metadata": {},
   "outputs": [
    {
     "name": "stdout",
     "output_type": "stream",
     "text": [
      "i=1: \"0\"\n",
      "i=2: \"1\"\n",
      "i=3: \"00\"\n",
      "i=4: \"01\"\n",
      "i=5: \"10\"\n",
      "i=6: \"11\"\n",
      "i=7: \"000\"\n",
      "i=8: \"001\"\n",
      "i=9: \"010\"\n",
      "i=10: \"011\"\n",
      "i=11: \"100\"\n",
      "i=12: \"101\"\n",
      "i=13: \"110\"\n",
      "i=14: \"111\"\n",
      "i=15: \"0000\"\n",
      "i=16: \"0001\"\n",
      "i=17: \"0010\"\n",
      "i=18: \"0011\"\n",
      "i=19: \"0100\"\n"
     ]
    }
   ],
   "source": [
    "def produce_nth_element(n):\n",
    "    length = lg(n)\n",
    "    idxGrp = getIndexInGroup(n) - 1 # Start to count at 1, therefore need to substract 1 from binary number\n",
    "    return toBinPadd(idxGrp, length)\n",
    "\n",
    "#\n",
    "# Test de la fonction finale :\n",
    "for i in range(1, 20):\n",
    "    print(f\"i={i}: \\\"{produce_nth_element(i)}\\\"\")"
   ]
  },
  {
   "cell_type": "markdown",
   "id": "52aa9839",
   "metadata": {},
   "source": [
    "\n",
    "<br/>\n",
    "\n",
    "---\n",
    "\n",
    "<br/>\n",
    "\n",
    "### (b)  \n",
    "On sait qu'il existe une bijection de $\\mathbb{N}$ vers les entiers naturels pair (que l'on notera $2\\mathbb{N}$).  De la même manière, il en existe une entre $\\mathbb{N}$ et $2\\mathbb{N}+1$ (les nombres impairs). On obtient donc :\n",
    "$$\\begin{equation*}\n",
    "    \\begin{cases}\n",
    "        x(n) := n \\mapsto 2n & \\\\\n",
    "        y(n) := n \\mapsto 2n+1 &\n",
    "    \\end{cases}\n",
    "\\end{equation*}\n",
    "$$ \n",
    "c'est à dire: \n",
    "$$\n",
    "\\begin{align*}\n",
    "b \\ : \\ \\mathbb{N} & \\rightarrow \\mathbb{N} \\times \\mathbb{N} \\\\\n",
    " n & \\mapsto (2n, \\ 2n+1)\n",
    "\\end{align*}\n",
    "$$\n",
    "Voir l'implémentation ci-dessous."
   ]
  },
  {
   "cell_type": "code",
   "execution_count": 6,
   "id": "2c565556",
   "metadata": {},
   "outputs": [],
   "source": [
    "def b(n):\n",
    "    def x(n): return 2*n\n",
    "    def y(n): return 2*n + 1\n",
    "    return (x(n), y(n))"
   ]
  },
  {
   "cell_type": "markdown",
   "id": "270bfff4",
   "metadata": {},
   "source": [
    "(Pour se convaincre que les bijections existent vraiment, prenons le cas de $\\mathbb{N} \\rightarrow 2\\mathbb{N}$.  \n",
    "On sait que la fonction $x \\mapsto 2x$ est injective ($2x=2y \\leftrightarrow x=y$), \n",
    "donc son image $F$ est au moins \"aussi grande\" que son ensemble de définition ce qui montre que $F$ est non-fini. Or on sait que $F \\subset \\mathbb{Z}$ et $\\mathbb{Z}$ est dénombrable donc $F$ est aussi dénombrable et donc en bijection avec $\\mathbb{N}$.)"
   ]
  },
  {
   "cell_type": "code",
   "execution_count": 7,
   "id": "abbb7940",
   "metadata": {},
   "outputs": [
    {
     "name": "stdout",
     "output_type": "stream",
     "text": [
      "(0, 1)\n",
      "(2, 3)\n",
      "(4, 5)\n",
      "(6, 7)\n",
      "(8, 9)\n",
      "(10, 11)\n",
      "(12, 13)\n",
      "(14, 15)\n",
      "(16, 17)\n",
      "(18, 19)\n",
      "(20, 21)\n",
      "(22, 23)\n",
      "(24, 25)\n",
      "(26, 27)\n",
      "(28, 29)\n"
     ]
    }
   ],
   "source": [
    "for i in range(0, 15):\n",
    "    print(b(i))"
   ]
  },
  {
   "cell_type": "markdown",
   "id": "898d6012",
   "metadata": {},
   "source": [
    "<br/>\n",
    "\n",
    "---\n",
    "<br/>\n",
    "\n",
    "### (c)\n",
    "\n",
    "On veut prouver que $\\mathbb{R}$ n'est pas dénombrable, pour ce faire on va montrer que $[0,1]$ n'est pas dénombrable et le résultat suivra du fait que c'est un sous-ensemble de $\\mathbb{R}$.\n",
    "\n",
    "Par contradiction, supposons que $[0,1]$ soit dénombrable, alors il existe une bijection  $f$ telle que \n",
    "$f = \\mathbb{N} \\rightarrow [0, 1],\\ n \\mapsto f(x)$.   \n",
    "Soit $(a_{n, 0}), (a_{n, 1}), (a_{n, 2}), ...$ un nombre dénombrablement infini de suite de chiffres (0..9) naturels.\n",
    "Chaque image d'un $n$ par $f$ sera de la forme \n",
    "$f(n) = 0.a_{n,0} a_{n,1} a_{n,2}...$  \n",
    "\n",
    "Comme on a supposé que [0, 1] était dénombrable, listons ses éléments:\n",
    "\n",
    "$$\\begin{align*}\n",
    "    &f(0) = 0.{\\color{red}{a_{0,0}}} a_{0,1} a_{0,2}, a_{0,3},...\\\\\n",
    "    &f(1) = 0.a_{1,0} {\\color{red}a_{1,1}} a_{1,2}, a_{1,3}, ...\\\\\n",
    "    &f(2) = 0.a_{2,0} a_{2,1} {\\color{red}a_{2,2}}, a_{2,3}, ... \\\\\n",
    "    &f(3) = 0.a_{3,0} a_{3,1} a_{3,2}, {\\color{red}a_{3, 3}}, ...\\\\\n",
    "    &... \\\\\n",
    "    & f(i) = 0.a_{i,0} a_{i,1} a_{i,2}, a_{i, 3}, ..., {\\color{red}a_{i, i}}, ...\\\\\n",
    "    & ... \\\\\n",
    "\\end{align*}$$\n",
    "\n",
    "Et on va montrer que l'on peut créer un nombre $D=0.d_1d_2d_3...$ qui n'apparaît pas dans le listing ci-dessus.\n",
    "En imposant simplement la condition que chaque $d_i$ soit différent de $a_{i,i}$\n",
    "on obtient un nombre qui n'apparaît nul part \n",
    "car il diffère de chaque $f(i)$ \n",
    "au i-ème point de la diagonale. \n",
    "Etant donné qu'on a listé tous les $i \\in \\mathbb{N}$ sans tomber sur $f(i) = D$, on a que la fonction n'est pas surjective et n'est donc \n",
    "pas une bijection. Ce qui rentre en contradiction avec l'hypothèse de départ, donc [0,1] est indénombrable et $\\mathbb{R}$ aussi."
   ]
  },
  {
   "cell_type": "markdown",
   "id": "8dd003fd",
   "metadata": {},
   "source": [
    " <br/>\n",
    " \n",
    "## 2. Théorie des ensembles et mesures de probabilité\n",
    "---"
   ]
  },
  {
   "cell_type": "markdown",
   "id": "15e5f393",
   "metadata": {},
   "source": [
    "### (a)\n",
    "\n",
    "On veut exprimer $\\mathbb{1}_{A\\cup B}\\ $ en fonction de  $\\mathbb{1}_A$ et  $\\mathbb{1}_B\\ $.\n",
    "Considérons $(\\mathbb{1}_{\\Omega} - \\mathbb{1}_A)(\\mathbb{1}_{\\Omega} - \\mathbb{1}_{B})\\ \\ $, on a que \n",
    "$\\mathbb{1}_{A \\cup B}(x) = 0\\ $ si et seulement si $x \\notin A \\wedge x \\notin B\\ \\ \\ $\n",
    "i.e. Ssi $\\mathbb{1}_A = 0 \\wedge \\mathbb{1}_{B} = 0\\ \\ $, ce qui donnerait $(\\mathbb{1}_{\\Omega} - 0)(\\mathbb{1}_{\\Omega} - 0) = \\mathbb{1}_{\\Omega}$.  \n",
    "<br/>  \n",
    "\n",
    "Si $x \\in A \\vee x \\in B\\ \\ $ alors $\\mathbb{1}_{\\Omega} = 1 \\wedge (\\mathbb{1}_{\\Omega} - \\mathbb{1}_A) = 0\\ \\ $ ou $(\\mathbb{1}_{\\Omega} -\\mathbb{1}_{B}) = 0\\ \\ $. On s'apperçoit que $(\\mathbb{1}_{\\Omega}-\\mathbb{1}_A)(\\mathbb{1}_{\\Omega}-\\mathbb{1}_{B})\\ \\ $ vaut toujours 0 sauf si $\\mathbb{1}_{A \\cup B}\\ $ vaut 0. On peut donc juste rajouter $\"\\mathbb{1}_{\\Omega} \\ -\"$ devant pour réquilibrer le tout et on finit avec $\\mathbb{1}_{A \\cup B}= \\mathbb{1}_{\\Omega} - (\\mathbb{1}_{\\Omega} - \\mathbb{1}_A)(\\mathbb{1}_{\\Omega} -\\mathbb{1}_{B})$."
   ]
  },
  {
   "cell_type": "markdown",
   "id": "40b3f198",
   "metadata": {},
   "source": [
    "<br/>\n",
    "\n",
    "### (b)\n",
    "\n",
    "Soit $(Ω, F, P)$ un espace probabilisé. Soit $A, B ∈ F$. Prouver que :\n",
    "$$\n",
    "P(A \\cup B) = P(A) + P(B) - P(A \\cap B)\n",
    "$$\n"
   ]
  },
  {
   "cell_type": "markdown",
   "id": "151d9444",
   "metadata": {},
   "source": []
  },
  {
   "cell_type": "markdown",
   "id": "856c6a5f",
   "metadata": {},
   "source": [
    "## 3. Espaces probabilisés et calculs de probabilités\n",
    "---\n",
    "\n",
    "### (a)\n",
    "Soit $T$ l'événement \"la pièce est tombé sur pile\" et $H$ l'événement \"la pièce est tombé sur face\"  \n",
    "\n",
    "2 coinflip $\\Rightarrow$ Faire ni 2 pile ni 2 faces est équivalent à faire \"pile face\" ou \"face pile\",  \n",
    "c-à-d $1-P((T,T) \\vee (H,H)) = P( (T,H) \\vee (H, T) ) = P(T, H) + P(H, T) - 0 = 1/4 + 1/4 = 1/2$  \n",
    "<br/>"
   ]
  },
  {
   "cell_type": "markdown",
   "id": "07fc5959",
   "metadata": {},
   "source": [
    "### (b)\n",
    "Probabilité de faire 6 faces différentes sur 6 jets d'un dé à 6 faces.  \n",
    "Soit A l'événement \"Aucune face ne se répète\" et $f_i$ la face tiré au lancé $i$.  \n",
    "\n",
    "Au lancer 1: P(A) = 1,  \n",
    "au 2: P(A) = 1 - 1/6  (on enlève $f_1$)  \n",
    "au 3: P(A) = 1 - 1/6 - 1/6 = 1 - 2/6 = 2/3 (on enlève $f_1$ puis $f_2$)  \n",
    "...  \n",
    "\n",
    "au 6: P(A) = 1 - 5/6 = 1/6 (on enlève $\\bigcup_{i=1}^{5}{f_i}$)\n",
    "La probabilité est donc de 1/6.  \n",
    "\n",
    "<br/>\n",
    "\n",
    "Alternativement on peut dire qu'il y a 6 faces pour 6 lancers, chaque face doit être utilisée une fois, il y a donc 1 chance sur 6.  \n",
    "\n",
    "<br/>  \n"
   ]
  },
  {
   "cell_type": "markdown",
   "id": "869fd48b",
   "metadata": {},
   "source": [
    "### (c)\n",
    "Probabilité de faire 8 fois 1 sur 15 lancé de 1 dé ?  \n",
    "Soit X le resultat d'un lancé de dé.  \n",
    "On utilise la formule binomiale $P(Y=r) = C(n, r)*p^r * (1-p)^{n-r}\\quad $  où  \n",
    "- Y = nombre de fois qu'un 1 apparait sur tous les lancés\n",
    "- r = nombre de fois qu'on veut faire apparaître un 1\n",
    "- n = nombre d'essais\n",
    "- p = probabilité d'avoir un 1 sur 1 lancer  \n",
    "\n",
    "<br/>  \n"
   ]
  },
  {
   "cell_type": "code",
   "execution_count": 8,
   "id": "f259aeb5",
   "metadata": {},
   "outputs": [],
   "source": [
    "from math import comb\n",
    "\n",
    "def bernoulli_trials(n, r, p):\n",
    "    \"\"\"\n",
    "    n: number of trials, r: number of success, p: probability of success\n",
    "    return proba of r success among n trials.\n",
    "    \"\"\"\n",
    "    return comb(n, r)*(p**r)*((1-p)**(n-r))  \n"
   ]
  },
  {
   "cell_type": "markdown",
   "id": "69e615c0",
   "metadata": {},
   "source": [
    "\n",
    "Sur 15 lancers la probabilité d'obtenir 8 fois 1 i.e. P(Y=8) vaut:"
   ]
  },
  {
   "cell_type": "code",
   "execution_count": 9,
   "id": "a037184a",
   "metadata": {},
   "outputs": [
    {
     "name": "stdout",
     "output_type": "stream",
     "text": [
      "P(Y=8) = 0.0010692267756133302\n"
     ]
    }
   ],
   "source": [
    "(n, r, p)=(15, 8, 1/6)\n",
    "print(f\"P(Y={r}) = {bernoulli_trials(n,r,p)}\")"
   ]
  },
  {
   "cell_type": "markdown",
   "id": "689fc121",
   "metadata": {},
   "source": [
    "<br/>  \n",
    "\n",
    "### (d)  \n",
    "\n",
    "Sur 100 lancers de pièces:  \n",
    "Soit $X_k$ = nombre de fois qu'on obtient la valeur $k$, où $k \\in \\{T, H\\}\\ $ ($T, H$ définis comme plus haut)  \n",
    "\n",
    "\n"
   ]
  },
  {
   "cell_type": "code",
   "execution_count": 10,
   "id": "5c28cbea",
   "metadata": {},
   "outputs": [
    {
     "name": "stdout",
     "output_type": "stream",
     "text": [
      "P(X_T=2) = 3.9048614808440084e-27\n",
      "P(X_T=50) = 0.07958923738717877\n",
      "P(X_T=98) = 3.9048614808440084e-27\n"
     ]
    }
   ],
   "source": [
    "(n,p) = (100, 1/2)\n",
    "def print_BT(r): print(f\"P(X_T={r}) = {bernoulli_trials(n,r,p)}\")\n",
    "\n",
    "print_BT(2)\n",
    "print_BT(50)\n",
    "print_BT(98)"
   ]
  }
 ],
 "metadata": {
  "kernelspec": {
   "display_name": "Python 3 (ipykernel)",
   "language": "python",
   "name": "python3"
  },
  "language_info": {
   "codemirror_mode": {
    "name": "ipython",
    "version": 3
   },
   "file_extension": ".py",
   "mimetype": "text/x-python",
   "name": "python",
   "nbconvert_exporter": "python",
   "pygments_lexer": "ipython3",
   "version": "3.9.12"
  },
  "vscode": {
   "interpreter": {
    "hash": "f7d97dfa7971c3058d7e2a25adca59a02485ed5ff9ec3b608f3814ded7e621b3"
   }
  },
  "widgets": {
   "application/vnd.jupyter.widget-state+json": {
    "state": {},
    "version_major": 2,
    "version_minor": 0
   }
  }
 },
 "nbformat": 4,
 "nbformat_minor": 5
}
