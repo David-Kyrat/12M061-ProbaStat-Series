{
 "cells": [
  {
   "cell_type": "markdown",
   "id": "846ace25",
   "metadata": {
    "slideshow": {
     "slide_type": "-"
    }
   },
   "source": [
    "# Probabilités & Statistiques  \n",
    "  \n",
    "### Septembre 2022\n",
    "<br/>\n",
    "\n",
    "## Série 01\n",
    "\n",
    "---"
   ]
  },
  {
   "cell_type": "code",
   "execution_count": 23,
   "id": "b003b814",
   "metadata": {},
   "outputs": [
    {
     "data": {
      "text/html": [
       "<iframe src=serie01.pdf width=800 height=400></iframe>"
      ],
      "text/latex": [
       "\\includegraphics[width=1.0\\textwidth]{serie01.pdf}"
      ],
      "text/plain": [
       "<__main__.PDF at 0x1de4296b430>"
      ]
     },
     "execution_count": 23,
     "metadata": {},
     "output_type": "execute_result"
    }
   ],
   "source": [
    "class PDF(object):\n",
    "  def __init__(self, pdf, size=(200,200)):\n",
    "    self.pdf = pdf\n",
    "    self.size = size\n",
    "\n",
    "  def _repr_html_(self):\n",
    "    return '<iframe src={0} width={1[0]} height={1[1]}></iframe>'.format(self.pdf, self.size)\n",
    "\n",
    "  def _repr_latex_(self):\n",
    "    return r'\\includegraphics[width=1.0\\textwidth]{{{0}}}'.format(self.pdf)\n",
    "PDF('serie01.pdf', size=(800, 400))"
   ]
  },
  {
   "cell_type": "markdown",
   "id": "68df57c5",
   "metadata": {},
   "source": [
    "### 1. Dénombrabilité\n",
    "---\n",
    "\n",
    "On cherche à écrire un programme qui donné un `n` nous donne le n-ème élément de $A^* = \\{0,1\\}^*$\n",
    "A* est ordonné selon l'ordre lexicographique, i.e. ${\\small A^*=\\{0; 1; 00; 01; 10; 11; 000; 001; 010 : 011; 100; 101; 110; 111;. . .\\}}$  \n",
    "<br/>\n",
    "\n",
    "Définisson ${B=A^{*}}\\ \\ $ par simplicité. Si on sépare $B$ en \"groupe\" d'éléments de même tailles (i.e. les 0,1, les 00, 01 ...),  \n",
    "on se rend compte que le nombre d'élément de chaque groupe est donné par $2^k$ où $k$ est la taille des éléments de ce dernier.  \n",
    "On a donc que le nombre d'éléments (possibilités de combinaison de 0,1) de taille $\\leq k$ est\n",
    "$\\sum^{k}_{i=1}{2^i} = 2^{i+1}-2$  \n",
    "<br/>\n",
    "\n",
    "Avec notre `n` donné, on cherche quelle taille ($k$) correspond à au moins `n` éléments:  \n",
    "$2^{k+1}-2 = n \\Longleftrightarrow 2^{k} = \\frac{n}{2}+1 \\Longleftrightarrow k = \\log_2{( \\frac{n}{2} + 1 )}$  \n",
    "On obtient donc la taille du n-ème élément de $B$ comme $|B_n| = \\lceil{\\log_2{( \\frac{n}{2} + 1 )}}\\rceil$"
   ]
  },
  {
   "cell_type": "markdown",
   "id": "306b4228",
   "metadata": {},
   "source": []
  }
 ],
 "metadata": {
  "kernelspec": {
   "display_name": "Python 3 (ipykernel)",
   "language": "python",
   "name": "python3"
  },
  "language_info": {
   "codemirror_mode": {
    "name": "ipython",
    "version": 3
   },
   "file_extension": ".py",
   "mimetype": "text/x-python",
   "name": "python",
   "nbconvert_exporter": "python",
   "pygments_lexer": "ipython3",
   "version": "3.9.12"
  },
  "widgets": {
   "application/vnd.jupyter.widget-state+json": {
    "state": {},
    "version_major": 2,
    "version_minor": 0
   }
  }
 },
 "nbformat": 4,
 "nbformat_minor": 5
}
