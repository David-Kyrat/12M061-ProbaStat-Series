{
 "cells": [
  {
   "cell_type": "markdown",
   "metadata": {},
   "source": [
    "# TP01 - Probabilités & Statistiques\n",
    " _Gregory Sedykh, Michel Donnet, Noah Munz_\n",
    "\n",
    "## Exercice 1. Lancé d'une pièce\n",
    "**On considère une pièce truquée qui renvoie pile avec probabilité $p ∈ [0,1]$, et face avec probabilité $1 −p$.\n",
    "On lance la pièce, et on gagne 1 point si l’on obtient pile, 0 point si l’on obtient face.**"
   ]
  },
  {
   "cell_type": "markdown",
   "metadata": {
    "slideshow": {
     "slide_type": "slide"
    }
   },
   "source": [
    "On commence par importer les modules nécessaires et définir quelques fonction de plot qui nous serons utiles pour la suite."
   ]
  },
  {
   "cell_type": "code",
   "execution_count": 67,
   "metadata": {},
   "outputs": [],
   "source": [
    "# Import necessary modules\n",
    "import numpy as np\n",
    "import matplotlib.pyplot as plt"
   ]
  },
  {
   "cell_type": "code",
   "execution_count": 72,
   "metadata": {},
   "outputs": [],
   "source": [
    "def plotVS(plot_x, plot_f1, plot_f2, title: str, xlabel: str, ylabel: str, f1Label: str, f2Label: str):\n",
    "    \"\"\"Plots two functions against each other.  \n",
    "    - plot_x: the x-axis values\n",
    "    - plot_f1: the y-values of the first function\n",
    "    - plot_f2: the y-values of the second function\n",
    "    - title: the title of the plot\n",
    "    - xlabel: the label of the x-axis\n",
    "    - ylabel: the label of the y-axis\n",
    "    - f1Label: the label of the first function\n",
    "    - f2Label: the label of the second function\n",
    "    \"\"\"\n",
    "    \n",
    "    plt.tight_layout()\n",
    "    plt.title(title)\n",
    "    plt.xlabel(xlabel)\n",
    "    plt.ylabel(ylabel)\n",
    "    plt.plot(plot_x, plot_f1, '-k', label=f1Label, linewidth=1)\n",
    "    plt.plot(plot_x, plot_f2, '-b', label=f2Label, linewidth=1)\n",
    "    plt.legend(prop={'size': 5})\n",
    "    plt.legend(fontsize=7)\n",
    "    #plt.legend()\n",
    "    plt.show()"
   ]
  },
  {
   "cell_type": "markdown",
   "metadata": {},
   "source": [
    "\n",
    "---\n",
    "\n",
    "**(a)** Écrire une fonction qui prend pour argument un réel $p ∈ [0,1]$, et qui simule ce lancé de pièce, c’est-à-dire qui renvoie 1 avec probabilité $p$ ou 0 avec probabilité $1 −p$. La fonction devra tester si p est bien dans [0,1] et afficher un message d’erreur dans le cas contraire."
   ]
  },
  {
   "cell_type": "markdown",
   "metadata": {},
   "source": [
    "La fonction `bt(p, nb=1)` ci-dessous effectue, simule le \"_bernoulli trial_\" $B(p, 1-p)$ demandé. Elle prend également un paramètre optionnel `nb` qui indique le nombre de simulations à realiser (par défaut 1)."
   ]
  },
  {
   "cell_type": "code",
   "execution_count": 73,
   "metadata": {},
   "outputs": [],
   "source": [
    "def bt(p, nb=1) -> np.ndarray:\n",
    "    \"\"\"Bernoulli Trials, where p(1) := p, p(0) := 1-p\"\"\"\n",
    "    if nb < 1: return np.array([])\n",
    "    if p < 0 or p > 1:\n",
    "        mess = f\"function bt, Probability p={p} is not in [0, 1].\"\n",
    "        print(mess)\n",
    "        raise ValueError(mess)\n",
    "    dist = [1 - p, p] # distribution of B(p)\n",
    "    return np.random.choice(2, 1, p=dist)[0] if nb == 1 else np.random.choice(2, nb, p=dist)\n",
    "\n",
    "def countWins(p, nb):\n",
    "    wins = np.longfloat(bt(p, nb).sum(dtype=np.longfloat))\n",
    "    return (wins, np.longfloat(nb)-wins)"
   ]
  },
  {
   "cell_type": "markdown",
   "source": [
    "\n",
    "---\n",
    "\n",
    "**(b)** Simuler 10000 lancés de pièce en prenant $p=\\frac{1}{4}$ et compter la proportion de cas pour lesquels on obtient 1. Vos résultats sont-ils cohérents ?\n"
   ],
   "metadata": {
    "collapsed": false
   }
  },
  {
   "cell_type": "markdown",
   "metadata": {},
   "source": [
    "\n",
    "---\n",
    "La fonction `countWins(p, nb)` va effectuer `nb` bernoulli trials et compter le nombre de succès et d'échec.\n",
    "i.e. `countWins(p, nb)` = $(\\sum_{i=1}^{nb}{bt(p)},\\ nb -\\sum_{i=1}^{nb}{bt(p)})$\n",
    "\n",
    "On simule donc 10'000 lancers de pièce, avec une probabilité de 1/4 d'obtenir pile et on compte le tout avec la fonction présenté ci-dessus."
   ]
  },
  {
   "cell_type": "code",
   "execution_count": 74,
   "metadata": {},
   "outputs": [
    {
     "name": "stdout",
     "output_type": "stream",
     "text": [
      "For p = 0.25 and 10000 trials, we get:\n"
     ]
    },
    {
     "ename": "AttributeError",
     "evalue": "module 'numpy' has no attribute 'lon'",
     "output_type": "error",
     "traceback": [
      "\u001B[1;31m---------------------------------------------------------------------------\u001B[0m",
      "\u001B[1;31mAttributeError\u001B[0m                            Traceback (most recent call last)",
      "\u001B[1;32m~\\AppData\\Local\\Temp\\ipykernel_9972\\1021006552.py\u001B[0m in \u001B[0;36m<cell line: 16>\u001B[1;34m()\u001B[0m\n\u001B[0;32m     14\u001B[0m     \u001B[0mprint\u001B[0m\u001B[1;33m(\u001B[0m\u001B[1;34mf\"Measured probability distribution was only {distance*100}% away from the required one.\"\u001B[0m\u001B[1;33m)\u001B[0m\u001B[1;33m\u001B[0m\u001B[1;33m\u001B[0m\u001B[0m\n\u001B[0;32m     15\u001B[0m \u001B[1;33m\u001B[0m\u001B[0m\n\u001B[1;32m---> 16\u001B[1;33m \u001B[0mproba_simulation\u001B[0m\u001B[1;33m(\u001B[0m\u001B[1;33m)\u001B[0m\u001B[1;33m\u001B[0m\u001B[1;33m\u001B[0m\u001B[0m\n\u001B[0m",
      "\u001B[1;32m~\\AppData\\Local\\Temp\\ipykernel_9972\\1021006552.py\u001B[0m in \u001B[0;36mproba_simulation\u001B[1;34m()\u001B[0m\n\u001B[0;32m      4\u001B[0m     \u001B[0mprint\u001B[0m\u001B[1;33m(\u001B[0m\u001B[1;34m\"For p =\"\u001B[0m\u001B[1;33m,\u001B[0m \u001B[0mp\u001B[0m\u001B[1;33m,\u001B[0m \u001B[1;34m\"and\"\u001B[0m\u001B[1;33m,\u001B[0m \u001B[0mn\u001B[0m\u001B[1;33m,\u001B[0m \u001B[1;34m\"trials, we get:\"\u001B[0m\u001B[1;33m)\u001B[0m\u001B[1;33m\u001B[0m\u001B[1;33m\u001B[0m\u001B[0m\n\u001B[0;32m      5\u001B[0m     \u001B[0mwins\u001B[0m\u001B[1;33m,\u001B[0m \u001B[0mlosses\u001B[0m \u001B[1;33m=\u001B[0m \u001B[0mcountWins\u001B[0m\u001B[1;33m(\u001B[0m\u001B[0mp\u001B[0m\u001B[1;33m,\u001B[0m \u001B[0mn\u001B[0m\u001B[1;33m)\u001B[0m\u001B[1;33m\u001B[0m\u001B[1;33m\u001B[0m\u001B[0m\n\u001B[1;32m----> 6\u001B[1;33m     \u001B[0mnp\u001B[0m\u001B[1;33m.\u001B[0m\u001B[0mlon\u001B[0m\u001B[1;33m\u001B[0m\u001B[1;33m\u001B[0m\u001B[0m\n\u001B[0m\u001B[0;32m      7\u001B[0m     \u001B[0mprint\u001B[0m\u001B[1;33m(\u001B[0m\u001B[1;34mf\"{wins} wins and {losses} losses.\"\u001B[0m\u001B[1;33m)\u001B[0m\u001B[1;33m\u001B[0m\u001B[1;33m\u001B[0m\u001B[0m\n\u001B[0;32m      8\u001B[0m     \u001B[0mwPerc\u001B[0m \u001B[1;33m=\u001B[0m \u001B[0mnp\u001B[0m\u001B[1;33m.\u001B[0m\u001B[0mlongfloat\u001B[0m\u001B[1;33m(\u001B[0m\u001B[0mwins\u001B[0m \u001B[1;33m/\u001B[0m \u001B[0mn\u001B[0m\u001B[1;33m)\u001B[0m \u001B[1;31m# using longfloat due to insufficient precision\u001B[0m\u001B[1;33m\u001B[0m\u001B[1;33m\u001B[0m\u001B[0m\n",
      "\u001B[1;32m~\\AppData\\Local\\Programs\\Python\\Python310\\lib\\site-packages\\numpy\\__init__.py\u001B[0m in \u001B[0;36m__getattr__\u001B[1;34m(attr)\u001B[0m\n\u001B[0;32m    309\u001B[0m             \u001B[1;32mreturn\u001B[0m \u001B[0mTester\u001B[0m\u001B[1;33m\u001B[0m\u001B[1;33m\u001B[0m\u001B[0m\n\u001B[0;32m    310\u001B[0m \u001B[1;33m\u001B[0m\u001B[0m\n\u001B[1;32m--> 311\u001B[1;33m         raise AttributeError(\"module {!r} has no attribute \"\n\u001B[0m\u001B[0;32m    312\u001B[0m                              \"{!r}\".format(__name__, attr))\n\u001B[0;32m    313\u001B[0m \u001B[1;33m\u001B[0m\u001B[0m\n",
      "\u001B[1;31mAttributeError\u001B[0m: module 'numpy' has no attribute 'lon'"
     ]
    }
   ],
   "source": [
    "def proba_simulation():\n",
    "    p = np.longfloat(0.25)\n",
    "    n = 10000\n",
    "    print(\"For p =\", p, \"and\", n, \"trials, we get:\")\n",
    "    wins, losses = countWins(p, n)\n",
    "    np.lon\n",
    "    print(f\"{wins} wins and {losses} losses.\")\n",
    "    wPerc = np.longfloat(wins / n) # using longfloat due to insufficient precision\n",
    "    mag = len(str(wPerc))  # magnitude\n",
    "    lPerc = round(1 - wPerc, mag) #rouding to significant digits (i.e. magnitude of wPerc)\n",
    "    print(f\"i.e. {wPerc*100}% wins and {lPerc*100}% losses\")\n",
    "\n",
    "    distance = round(np.fabs(wPerc-p), mag)\n",
    "    print(f\"Measured probability distribution was only {distance*100}% away from the required one.\")\n",
    "\n",
    "proba_simulation()"
   ]
  },
  {
   "cell_type": "markdown",
   "metadata": {},
   "source": [
    "Le résultat est cohérent, on retrouve une proportion qui diffère de moins d'un demi-pourcent de la probabilité requise $p$"
   ]
  },
  {
   "cell_type": "markdown",
   "metadata": {},
   "source": [
    "\n",
    "---\n",
    "\n",
    "**(c)** Écrire une fonction qui prend pour arguments un entier naturel $n$ non nul, et un réel $p∈[0,1]$, et qui renvoie le nombre de points obtenus après $n$ lancés.\n",
    "\n",
    "\n"
   ]
  },
  {
   "cell_type": "markdown",
   "source": [
    "\n",
    "L'implémentation de cette fonction étant déjà pratique pour répondre à la question **(b)**, elle a déjà été réalisé. En effet, c'est simplement la fonction `countWins(p, nb)`\n",
    "\n"
   ],
   "metadata": {
    "collapsed": false
   }
  },
  {
   "cell_type": "markdown",
   "source": [
    "\n",
    "---\n",
    "**(d.1)** On peut considérer le total de points après $n$ lancés comme une variable aléatoire $X: \\Omega \\rightarrow \\{0,1,...,n\\}$. Quelle loi suit alors $X$ ?"
   ],
   "metadata": {
    "collapsed": false
   }
  },
  {
   "cell_type": "markdown",
   "source": [
    "On remarque que $X$ suit une loi binomiale $B(nb,\\ p)$.\n",
    "En effet, on a vu dans le cours que si pour une somme $S_n$ de $n$ variables aléatoires, elles suivent toutes une loi de Bernoulli $B(p,\\ 1-p)$, alors $S_n$ suit une loi Binomiale $B(n, p)$.\n",
    "\n",
    "On implémente donc la fonction `binomial(p, n, k)` qui retourne la probabilité qu'une variable aléatoire $X$ soit égale à $k$, si $X$ suit une loi binomial. ($k \\in \\llbracket 0, n \\rrbracket$). i.e. la quantitée:\n",
    "    $$\n",
    "    P(X=k) = \\binom{n}{k}p^k(1-p)^{1-k}\n",
    "    $$\n",
    "\n",
    "(on peut donc vérifier que notre variable aléatoire $X$ (qui modélise le total de points après $n$ lancés) suit bien une loi binomiale, en vérifiant si l'égalité ci-dessus tient pour tout $k  \\in \\llbracket 0, n \\rrbracket$)"
   ],
   "metadata": {
    "collapsed": false
   }
  },
  {
   "cell_type": "code",
   "execution_count": 75,
   "outputs": [],
   "source": [
    "# sums of n independant Bernoulli trials === binomial distribution with param B(n, p)\n",
    "def binomial(n, p, k):\n",
    "    tmp = np.longfloat(np.math.comb(n, k)) * np.longfloat(p ** k)\n",
    "    out = np.longfloat((1-p) ** (n-k))\n",
    "    return tmp * out"
   ],
   "metadata": {
    "collapsed": false
   }
  },
  {
   "cell_type": "markdown",
   "source": [
    "**(d.2)** Utiliser cette propriété pour écrire une autre fonction permettant de renvoyer le nombre de points obtenus après $n$ lancés."
   ],
   "metadata": {
    "collapsed": false
   }
  },
  {
   "cell_type": "markdown",
   "source": [
    "Si on veut pouvoir exprimer le nombre de points $k$ obtenu après $n$ lancés à partir de la loi binomial, on doit prendre l'espérance $E[X]$ de notre variable aléatoire $X$ qui suit cette loi $B(n,\\ p)$. En effet, la formule ci-dessus stipule une condition (nécessaire et suffisante) pour qu'une variable aléatoire suive $B(n,\\ p)$ (i.e. que la relation tienne $k$), mais elle ne nous indique que le probabilité, pas le nombre de points.\n",
    "\n",
    "Alors que l'espérance, quant à elle, va nous retourner le nombre de points \"attendus\" pour justement ces $n$ lancers, en faisant la moyenne des points pondérée par leur probabilité (définie par $B(n, p)$).\n",
    "\n",
    "On implémente donc la fonction `expected_value(P, ys)` qui calcule $E[Y]$ pour une variable aléatoire $Y$ qui suit une distribution $P$."
   ],
   "metadata": {
    "collapsed": false
   }
  },
  {
   "cell_type": "code",
   "execution_count": 76,
   "outputs": [],
   "source": [
    "def expected_value(P, ys):\n",
    "    \"\"\" P: probability distribution of random variable to compute exp value from\n",
    "        ys: range of random variable (i.e. != values) \"\"\"\n",
    "    return np.array([P(yi)*yi for yi in ys], dtype=np.longfloat).sum()\n"
   ],
   "metadata": {
    "collapsed": false
   }
  },
  {
   "cell_type": "markdown",
   "source": [
    "\n",
    "---\n",
    "\n",
    "**(e)** Vérifier que les deux fonctions précédentes permettent bien de modéliser la même variable aléatoire."
   ],
   "metadata": {
    "collapsed": false
   }
  },
  {
   "cell_type": "markdown",
   "source": [
    "Pour vérifier ceci on va plot pour $n$ de $100$ à $1000$ (par tranche de 100)\n",
    "la somme \"manuelle\" des $n$ variables aléatoires de Bernoulli (`plot_f2`) et\n",
    "l'espérance de $X$ qui suit la loi binomiale (`plot_f1`).\n",
    "(le tout pour $p=0.25$)"
   ],
   "metadata": {
    "collapsed": false
   }
  },
  {
   "cell_type": "code",
   "execution_count": 77,
   "outputs": [
    {
     "name": "stdout",
     "output_type": "stream",
     "text": [
      "f1 [25.0, 50.0, 75.0, 100.0, 125.0, 150.0, 174.99999999999997, 200.0, 225.0, 250.0]\n",
      "\n",
      "f2 [27.0, 46.0, 75.0, 111.0, 132.0, 157.0, 181.0, 202.0, 229.0, 238.0]\n"
     ]
    },
    {
     "data": {
      "text/plain": "<Figure size 640x480 with 1 Axes>",
      "image/png": "[encoded data removed]"
     },
     "metadata": {},
     "output_type": "display_data"
    },
    {
     "name": "stdout",
     "output_type": "stream",
     "text": [
      "\n"
     ]
    }
   ],
   "source": [
    "def countWinsBin(p, n):\n",
    "    def binml(yi): return binomial(n, p, yi)\n",
    "    return expected_value(binml, np.arange(n+1))\n",
    "\n",
    "p = 0.25\n",
    "try:\n",
    "    x_plot = range(100, 1001, 100)\n",
    "    # Computed expected number of points out of n trials (according to binomial distribution)\n",
    "    plot_f1 = [countWinsBin(p, x) for x in x_plot]\n",
    "    # Actual number of points out of n trials\n",
    "    plot_f2 = [countWins(p, x)[0] for x in x_plot]\n",
    "\n",
    "    # plot_f1 and plot_f2 should be really close\n",
    "\n",
    "    print(\"f1\", plot_f1)\n",
    "    print(\"\\nf2\", plot_f2)\n",
    "\n",
    "    plotVS(x_plot, plot_f1, plot_f2,\n",
    "           \"Expected Value of binomial distribution VS Actual sum of bernouilli trials\",\n",
    "           \"Number of trials (n)\",\n",
    "           \"Number of success\",\n",
    "           \"Expected Value of B(n, p)\",\n",
    "           \"Sum of n Bernouilli Trials\")\n",
    "    plt.show()\n",
    "\n",
    "except ValueError as ve:\n",
    "    print(\"Caught Exception:\\n   \", \"ValueError:\", ve)\n",
    "\n",
    "print(\"\")"
   ],
   "metadata": {
    "collapsed": false
   }
  },
  {
   "cell_type": "markdown",
   "source": [
    "On peut voir que les 2 courbes (théorique et \"réelle\") sont très proches. On voit bien que la somme des bernoulli trials suit bien une loi binomial et que $E[X]$ pour $X$ qui suit $B(n, p)$ représente bien le \"vrai\" nombre de succès/point."
   ],
   "metadata": {
    "collapsed": false
   }
  },
  {
   "cell_type": "markdown",
   "source": [],
   "metadata": {
    "collapsed": false
   }
  }
 ],
 "metadata": {
  "kernelspec": {
   "display_name": "Python 3.10.8 64-bit",
   "language": "python",
   "name": "python3"
  },
  "language_info": {
   "codemirror_mode": {
    "name": "ipython",
    "version": 3
   },
   "file_extension": ".py",
   "mimetype": "text/x-python",
   "name": "python",
   "nbconvert_exporter": "python",
   "pygments_lexer": "ipython3",
   "version": "3.10.8"
  },
  "orig_nbformat": 4,
  "vscode": {
   "interpreter": {
    "hash": "9936963ef19edaf3a8524be231afd4d8da15b4330b0b102b73ba1b921cacf455"
   }
  }
 },
 "nbformat": 4,
 "nbformat_minor": 2
}
