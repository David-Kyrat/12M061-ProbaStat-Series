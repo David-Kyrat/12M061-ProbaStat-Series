{
 "cells": [
  {
   "cell_type": "markdown",
   "metadata": {},
   "source": [
    "# TP01 - Probabilités & Statistiques\n",
    " _Gregory Sedykh, Michel Donnet, Noah Munz_\n",
    "\n",
    "## Exercice 1. Lancé d'une pièce\n",
    "**On considère une pièce truquée qui renvoie pile avec probabilité $p ∈ [0,1]$, et face avec probabilité $1 −p$.\n",
    "On lance la pièce, et on gagne 1 point si l’on obtient pile, 0 point si l’on obtient face.**"
   ]
  },
  {
   "cell_type": "markdown",
   "metadata": {
    "slideshow": {
     "slide_type": "slide"
    }
   },
   "source": [
    "On commence par importer les modules nécessaires et définir quelques fonction de plot qui nous serons utiles pour la suite."
   ]
  },
  {
   "cell_type": "code",
   "execution_count": 12,
   "metadata": {},
   "outputs": [],
   "source": [
    "# Import necessary modules\n",
    "import numpy as np\n",
    "import matplotlib.pyplot as plt"
   ]
  },
  {
   "cell_type": "code",
   "execution_count": 13,
   "metadata": {},
   "outputs": [],
   "source": [
    "def plotVS(plot_x, plot_f1, plot_f2, title: str, xlabel: str, ylabel: str, f1Label: str, f2Label: str):\n",
    "    \"\"\"Plots two functions against each other.  \n",
    "    - plot_x: the x-axis values\n",
    "    - plot_f1: the y-values of the first function\n",
    "    - plot_f2: the y-values of the second function\n",
    "    - title: the title of the plot\n",
    "    - xlabel: the label of the x-axis\n",
    "    - ylabel: the label of the y-axis\n",
    "    - f1Label: the label of the first function\n",
    "    - f2Label: the label of the second function\n",
    "    \"\"\"\n",
    "    \n",
    "    plt.tight_layout()\n",
    "    plt.title(title)\n",
    "    plt.xlabel(xlabel)\n",
    "    plt.ylabel(ylabel)\n",
    "    plt.plot(plot_x, plot_f1, '-k', label=f1Label, linewidth=1)\n",
    "    plt.plot(plot_x, plot_f2, '-b', label=f2Label, linewidth=1)\n",
    "    plt.legend(prop={'size': 5})\n",
    "    plt.legend(fontsize=7)\n",
    "    #plt.legend()\n",
    "    plt.show()"
   ]
  },
  {
   "cell_type": "markdown",
   "metadata": {},
   "source": [
    "\n",
    "---\n",
    "\n",
    "**(a)** Écrire une fonction qui prend pour argument un réel $p ∈ [0,1]$, et qui simule ce lancé de pièce, c’est-à-dire qui renvoie 1 avec probabilité $p$ ou 0 avec probabilité $1 −p$. La fonction devra tester si p est bien dans [0,1] et afficher un message d’erreur dans le cas contraire."
   ]
  },
  {
   "cell_type": "markdown",
   "metadata": {},
   "source": [
    "La fonction `bt(p, nb=1)` ci-dessous effectue, simule le \"_bernoulli trial_\" $B(p)$ demandé. Elle prend également un paramètre optionnel `nb` qui indique le nombre de simulations à realiser (par défaut 1)."
   ]
  },
  {
   "cell_type": "code",
   "execution_count": 14,
   "metadata": {},
   "outputs": [],
   "source": [
    "def bt(p, nb=1) -> np.ndarray:\n",
    "    \"\"\"Bernoulli Trials, where p(1) := p, p(0) := 1-p\"\"\"\n",
    "    if nb < 1: return np.array([])\n",
    "    if p < 0 or p > 1:\n",
    "        mess = f\"function bt, Probability p={p} is not in [0, 1].\"\n",
    "        print(mess)\n",
    "        raise ValueError(mess)\n",
    "    dist = [1 - p, p] # distribution of B(p)\n",
    "    return np.random.choice(2, 1, p=dist)[0] if nb == 1 else np.random.choice(2, nb, p=dist)\n",
    "\n",
    "def countWins(p, nb):\n",
    "    wins = np.longfloat(bt(p, nb).sum(dtype=np.longfloat))\n",
    "    return (wins, np.longfloat(nb)-wins)"
   ]
  },
  {
   "cell_type": "markdown",
   "source": [
    "\n",
    "---\n",
    "\n",
    "**(b)** Simuler 10000 lancés de pièce en prenant $p=\\frac{1}{4}$ et compter la proportion de cas pour lesquels on obtient 1. Vos résultats sont-ils cohérents ?\n"
   ],
   "metadata": {
    "collapsed": false
   }
  },
  {
   "cell_type": "markdown",
   "metadata": {},
   "source": [
    "\n",
    "---\n",
    "La fonction `countWins(p, nb)` va effectuer `nb` bernoulli trials et compter le nombre de succès et d'échec.\n",
    "i.e. `countWins(p, nb)` = $(\\sum_{i=1}^{nb}{bt(p)},\\ nb -\\sum_{i=1}^{nb}{bt(p)})$\n",
    "\n",
    "On simule donc 10'000 lancers de pièce, avec une probabilité de 1/4 d'obtenir pile et on compte le tout avec la fonction présenté ci-dessus."
   ]
  },
  {
   "cell_type": "code",
   "execution_count": 52,
   "metadata": {},
   "outputs": [
    {
     "name": "stdout",
     "output_type": "stream",
     "text": [
      "For p = 0.25 and 10000 trials, we get:\n",
      "2478.0 wins and 7522.0 losses.\n",
      "i.e. 24.779999999999998% wins and 75.22% losses\n",
      "Measured probability distribution was only 0.22% away from the required one.\n"
     ]
    }
   ],
   "source": [
    "def proba_simulation():\n",
    "    p = np.longfloat(0.25)\n",
    "    n = 10000\n",
    "    print(\"For p =\", p, \"and\", n, \"trials, we get:\")\n",
    "    wins, losses = countWins(p, n)\n",
    "    np.lon\n",
    "    print(f\"{wins} wins and {losses} losses.\")\n",
    "    wPerc = np.longfloat(wins / n) # using longfloat due to insufficient precision\n",
    "    mag = len(str(wPerc))  # magnitude\n",
    "    lPerc = round(1 - wPerc, mag) #rouding to significant digits (i.e. magnitude of wPerc)\n",
    "    print(f\"i.e. {wPerc*100}% wins and {lPerc*100}% losses\")\n",
    "\n",
    "    distance = round(np.fabs(wPerc-p), mag)\n",
    "    print(f\"Measured probability distribution was only {distance*100}% away from the required one.\")\n",
    "\n",
    "proba_simulation()"
   ]
  },
  {
   "cell_type": "markdown",
   "metadata": {},
   "source": [
    "Le résultat est cohérent, on retrouve une proportion qui diffère de moins d'un demi-pourcent de la probabilité requise $p$"
   ]
  },
  {
   "cell_type": "markdown",
   "metadata": {},
   "source": [
    "\n",
    "---\n",
    "\n",
    "**(c)** Écrire une fonction qui prend pour arguments un entier naturel $n$ non nul, et un réel $p∈[0,1]$, et qui renvoie le nombre de points obtenus après $n$ lancés.\n",
    "\n",
    "\n"
   ]
  },
  {
   "cell_type": "markdown",
   "source": [
    "\n",
    "L'implémentation de cette fonction étant déjà pratique pour répondre à la question **(b)**, elle a déjà été réalisé. En effet, c'est simplement la fonction `countWins(p, nb)`\n",
    "\n"
   ],
   "metadata": {
    "collapsed": false
   }
  },
  {
   "cell_type": "markdown",
   "source": [
    "\n",
    "---\n",
    "**(d)** On peut considérer le total de points après $n$ lancés comme une variable aléatoire $X: \\Omega \\rightarrow \\{0,1,...,n\\}$. Quelle loi suit alors $X$ ? Utiliser cette propriété pour écrire une autre fonction permettant de renvoyer le nombre de points obtenus après $n$ lancés."
   ],
   "metadata": {
    "collapsed": false
   }
  },
  {
   "cell_type": "code",
   "execution_count": null,
   "outputs": [],
   "source": [],
   "metadata": {
    "collapsed": false
   }
  },
  {
   "cell_type": "markdown",
   "metadata": {},
   "source": [
    "On peut remarquer que  **X** suit une loi binomiale.\n",
    "Soit alors la fonction *loi_binomiale(n, p)* qui prend en argument le nombre *n* de fois qu'on va effectuer un lancer et une probabilité *p*"
   ]
  },
  {
   "cell_type": "code",
   "execution_count": 17,
   "metadata": {},
   "outputs": [
    {
     "name": "stdout",
     "output_type": "stream",
     "text": [
      "241\n"
     ]
    }
   ],
   "source": [
    "def loi_binomiale(n, p):\n",
    "    total_x = 0\n",
    "    total_proba = 0\n",
    "\n",
    "    # On boucle jusqu'a n pour voir jusqu'a quel k on a la probabilité en dessous de 0.25\n",
    "    for k in range(n):\n",
    "\n",
    "        k_parmi_n = (np.math.factorial(n) // (np.math.factorial(k) *  np.math.factorial(n - k)))\n",
    "\n",
    "        if total_proba + k_parmi_n * (p ** k) * ((1 - p) ** (n - k)) <= p:\n",
    "            total_proba += k_parmi_n * (p ** k) * ((1 - p) ** (n - k))\n",
    "            total_x += 1\n",
    "\n",
    "        else:\n",
    "            break\n",
    "\n",
    "    return total_x\n",
    "    \n",
    "\n",
    "print(loi_binomiale(1000, 0.25))\n",
    "\n"
   ]
  },
  {
   "cell_type": "markdown",
   "metadata": {},
   "source": [
    "On peut voir que *n_lancers_de_pieces* et *loi_binomiale* modélisent la même variable aléatoire."
   ]
  },
  {
   "cell_type": "code",
   "execution_count": 18,
   "metadata": {},
   "outputs": [
    {
     "ename": "NameError",
     "evalue": "name 'random' is not defined",
     "output_type": "error",
     "traceback": [
      "\u001B[1;31m---------------------------------------------------------------------------\u001B[0m",
      "\u001B[1;31mNameError\u001B[0m                                 Traceback (most recent call last)",
      "\u001B[1;32m~\\AppData\\Local\\Temp\\ipykernel_9972\\1862689017.py\u001B[0m in \u001B[0;36m<cell line: 1>\u001B[1;34m()\u001B[0m\n\u001B[1;32m----> 1\u001B[1;33m \u001B[0mprint\u001B[0m\u001B[1;33m(\u001B[0m\u001B[1;34mf\"n_lancers_de_piece donne: {n_lancers_de_piece(1000, 0.25)}\"\u001B[0m\u001B[1;33m)\u001B[0m\u001B[1;33m\u001B[0m\u001B[1;33m\u001B[0m\u001B[0m\n\u001B[0m\u001B[0;32m      2\u001B[0m \u001B[0mprint\u001B[0m\u001B[1;33m(\u001B[0m\u001B[1;34mf\"loi_binomiale donne: {loi_binomiale(1000, 0.25)}\"\u001B[0m\u001B[1;33m)\u001B[0m\u001B[1;33m\u001B[0m\u001B[1;33m\u001B[0m\u001B[0m\n",
      "\u001B[1;32m~\\AppData\\Local\\Temp\\ipykernel_9972\\1992893812.py\u001B[0m in \u001B[0;36mn_lancers_de_piece\u001B[1;34m(n, p)\u001B[0m\n\u001B[0;32m     18\u001B[0m \u001B[1;33m\u001B[0m\u001B[0m\n\u001B[0;32m     19\u001B[0m         \u001B[1;31m# Générer un nombre entre 0 et 1\u001B[0m\u001B[1;33m\u001B[0m\u001B[1;33m\u001B[0m\u001B[0m\n\u001B[1;32m---> 20\u001B[1;33m         \u001B[0mrand_num\u001B[0m \u001B[1;33m=\u001B[0m \u001B[0mrandom\u001B[0m\u001B[1;33m.\u001B[0m\u001B[0mrandom\u001B[0m\u001B[1;33m(\u001B[0m\u001B[1;33m)\u001B[0m\u001B[1;33m\u001B[0m\u001B[1;33m\u001B[0m\u001B[0m\n\u001B[0m\u001B[0;32m     21\u001B[0m \u001B[1;33m\u001B[0m\u001B[0m\n\u001B[0;32m     22\u001B[0m         \u001B[1;31m# Si le nombre choisi est plus petit que p, on rend 1\u001B[0m\u001B[1;33m\u001B[0m\u001B[1;33m\u001B[0m\u001B[0m\n",
      "\u001B[1;31mNameError\u001B[0m: name 'random' is not defined"
     ]
    }
   ],
   "source": [
    "print(f\"n_lancers_de_piece donne: {n_lancers_de_piece(1000, 0.25)}\")\n",
    "print(f\"loi_binomiale donne: {loi_binomiale(1000, 0.25)}\")"
   ]
  }
 ],
 "metadata": {
  "kernelspec": {
   "display_name": "Python 3.10.8 64-bit",
   "language": "python",
   "name": "python3"
  },
  "language_info": {
   "codemirror_mode": {
    "name": "ipython",
    "version": 3
   },
   "file_extension": ".py",
   "mimetype": "text/x-python",
   "name": "python",
   "nbconvert_exporter": "python",
   "pygments_lexer": "ipython3",
   "version": "3.10.8"
  },
  "orig_nbformat": 4,
  "vscode": {
   "interpreter": {
    "hash": "9936963ef19edaf3a8524be231afd4d8da15b4330b0b102b73ba1b921cacf455"
   }
  }
 },
 "nbformat": 4,
 "nbformat_minor": 2
}
