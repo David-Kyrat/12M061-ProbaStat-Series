{
 "cells": [
  {
   "cell_type": "markdown",
   "metadata": {},
   "source": [
    "### TP1 - Exercice 1: Lancer de pièce"
   ]
  },
  {
   "cell_type": "markdown",
   "metadata": {},
   "source": [
    "On commence par importer random et numpy."
   ]
  },
  {
   "cell_type": "code",
   "execution_count": 67,
   "metadata": {},
   "outputs": [],
   "source": [
    "# Importer tous les modules nécessaires\n",
    "import random\n",
    "import numpy as np"
   ]
  },
  {
   "cell_type": "markdown",
   "metadata": {},
   "source": [
    "La fonction *lancer_de_piece(p)* prend en argument une probabilité *p* d'obtenir pile (ou 1 point) et rend le résultat obtenu."
   ]
  },
  {
   "cell_type": "code",
   "execution_count": 8,
   "metadata": {},
   "outputs": [],
   "source": [
    "# Fonction lancer de piece pour simuler un lancer d'une pièce truquée\n",
    "def lancer_de_piece(p):\n",
    "\n",
    "    # Vérifier que la probabilité est entre 0 et 1\n",
    "    if p < 0 or p > 1:\n",
    "        print(\"La probabilité donnée n'est pas entre 0 et 1\")\n",
    "        return ValueError\n",
    "    \n",
    "    # Générer un nombre entre 0 et 1\n",
    "    rand_num = random.random()\n",
    "\n",
    "    # Si le nombre choisi est plus petit que p, on rend 1\n",
    "    if rand_num <= p:\n",
    "        return 1\n",
    "\n",
    "    # Sinon, on rend 0\n",
    "    else:\n",
    "        return 0"
   ]
  },
  {
   "cell_type": "markdown",
   "metadata": {},
   "source": [
    "On simule 10'000 lancers de pièce, avec une probabilité de 1/4 d'obtenir pile (ou 1 point)."
   ]
  },
  {
   "cell_type": "code",
   "execution_count": 13,
   "metadata": {},
   "outputs": [
    {
     "name": "stdout",
     "output_type": "stream",
     "text": [
      "0.2474\n"
     ]
    }
   ],
   "source": [
    "qty_1 = 0\n",
    "\n",
    "for i in range(10000):\n",
    "    if lancer_de_piece(0.25) == 1:\n",
    "        qty_1 += 1\n",
    "\n",
    "print(qty_1 / 10000)"
   ]
  },
  {
   "cell_type": "markdown",
   "metadata": {},
   "source": [
    "Le résultat est cohérent, on retrouve une proportion proche de la probabilité *p*"
   ]
  },
  {
   "cell_type": "markdown",
   "metadata": {},
   "source": [
    "La fonction *n_lancers_de_piece(n, p)* prend en argument le nombre *n* de fois qu'on va effectuer un lancer et une probabilité *p*"
   ]
  },
  {
   "cell_type": "code",
   "execution_count": 14,
   "metadata": {},
   "outputs": [],
   "source": [
    "def n_lancers_de_piece(n, p):\n",
    "\n",
    "    # Vérifier que la probabilité est entre 0 et 1\n",
    "    if p < 0 or p > 1:\n",
    "        print(\"La probabilité donnée n'est pas entre 0 et 1\")\n",
    "        return ValueError\n",
    "    \n",
    "    # Vérifier que le n est un entier non nul\n",
    "    if type(n) != int or n <= 0:\n",
    "        print(\"n entré n'est pas un entier non nul\")\n",
    "        return ValueError\n",
    "\n",
    "    # Initialiser les points à 0\n",
    "    points = 0\n",
    "    \n",
    "    # Boucler n fois\n",
    "    for i in range(n):\n",
    "\n",
    "        # Générer un nombre entre 0 et 1\n",
    "        rand_num = random.random()\n",
    "\n",
    "        # Si le nombre choisi est plus petit que p, on rend 1\n",
    "        if rand_num <= p:\n",
    "            points += 1\n",
    "\n",
    "    return points"
   ]
  },
  {
   "cell_type": "markdown",
   "metadata": {},
   "source": [
    "On peut remarquer que  **X** suit une loi binomiale.\n",
    "Soit alors la fonction *loi_binomiale(n, p)* qui prend en argument le nombre *n* de fois qu'on va effectuer un lancer et une probabilité *p*"
   ]
  },
  {
   "cell_type": "code",
   "execution_count": 81,
   "metadata": {},
   "outputs": [
    {
     "name": "stdout",
     "output_type": "stream",
     "text": [
      "241\n"
     ]
    }
   ],
   "source": [
    "def loi_binomiale(n, p):\n",
    "    total_x = 0\n",
    "    total_proba = 0\n",
    "\n",
    "    # On boucle jusqu'a n pour voir jusqu'a quel k on a la probabilité en dessous de 0.25\n",
    "    for k in range(n):\n",
    "\n",
    "        k_parmi_n = (np.math.factorial(n) // (np.math.factorial(k) *  np.math.factorial(n - k)))\n",
    "\n",
    "        if total_proba + k_parmi_n * (p ** k) * ((1 - p) ** (n - k)) <= p:\n",
    "            total_proba += k_parmi_n * (p ** k) * ((1 - p) ** (n - k))\n",
    "            total_x += 1\n",
    "\n",
    "        else:\n",
    "            break\n",
    "\n",
    "    return total_x\n",
    "    \n",
    "\n",
    "print(loi_binomiale(1000, 0.25))\n",
    "\n"
   ]
  },
  {
   "cell_type": "markdown",
   "metadata": {},
   "source": [
    "On peut voir que *n_lancers_de_pieces* et *loi_binomiale* modélisent la même variable aléatoire."
   ]
  },
  {
   "cell_type": "code",
   "execution_count": 89,
   "metadata": {},
   "outputs": [
    {
     "name": "stdout",
     "output_type": "stream",
     "text": [
      "n_lancers_de_piece donne: 240\n",
      "loi_binomiale donne: 241\n"
     ]
    }
   ],
   "source": [
    "print(f\"n_lancers_de_piece donne: {n_lancers_de_piece(1000, 0.25)}\")\n",
    "print(f\"loi_binomiale donne: {loi_binomiale(1000, 0.25)}\")"
   ]
  }
 ],
 "metadata": {
  "kernelspec": {
   "display_name": "Python 3.10.8 64-bit",
   "language": "python",
   "name": "python3"
  },
  "language_info": {
   "codemirror_mode": {
    "name": "ipython",
    "version": 3
   },
   "file_extension": ".py",
   "mimetype": "text/x-python",
   "name": "python",
   "nbconvert_exporter": "python",
   "pygments_lexer": "ipython3",
   "version": "3.10.8"
  },
  "orig_nbformat": 4,
  "vscode": {
   "interpreter": {
    "hash": "9936963ef19edaf3a8524be231afd4d8da15b4330b0b102b73ba1b921cacf455"
   }
  }
 },
 "nbformat": 4,
 "nbformat_minor": 2
}
